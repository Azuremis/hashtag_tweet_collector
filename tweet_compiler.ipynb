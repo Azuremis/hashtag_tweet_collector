{
 "cells": [
  {
   "cell_type": "markdown",
   "metadata": {
    "pycharm": {
     "name": "#%% md\n"
    }
   },
   "source": [
    " ## Get recent tweets based on hashtag"
   ]
  },
  {
   "cell_type": "code",
   "execution_count": 54,
   "metadata": {
    "pycharm": {
     "name": "#%%\n"
    }
   },
   "outputs": [],
   "source": [
    "import tweepy\n",
    "import numpy as np\n",
    "import pandas as pd\n",
    "import config\n",
    "\n",
    "# Setup twitter authentication with tweepy\n",
    "consumer_key = config.consumer_key\n",
    "consumer_secret = config.consumer_secret\n",
    "access_token = config.access_token\n",
    "access_token_secret = config.access_token_secret\n",
    "\n",
    "auth = tweepy.OAuthHandler(consumer_key, consumer_secret)\n",
    "auth.set_access_token(access_token, access_token_secret)\n",
    "api = tweepy.API(auth)\n"
   ]
  },
  {
   "cell_type": "markdown",
   "metadata": {
    "pycharm": {
     "name": "#%% md\n"
    }
   },
   "source": [
    "### Define the search #hashtags and today's date"
   ]
  },
  {
   "cell_type": "code",
   "execution_count": null,
   "outputs": [],
   "source": [
    "hashtags = ['#Eril', '#KangEmil', '#Zara', '#BuAtalia', '#RidwanKamil', '#BuCinta', '#Aare', '#Swiss']\n",
    "stop_date = \"2022-07-19\""
   ],
   "metadata": {
    "collapsed": false,
    "pycharm": {
     "name": "#%%\n"
    }
   }
  },
  {
   "cell_type": "markdown",
   "source": [
    "### Query API for tweets"
   ],
   "metadata": {
    "collapsed": false,
    "pycharm": {
     "name": "#%% md\n"
    }
   }
  },
  {
   "cell_type": "code",
   "execution_count": null,
   "outputs": [],
   "source": [
    "def get_tweets(search_term, stop_date):\n",
    "    \"\"\"\n",
    "    Retrieves recent tweet data for a given search term up until specified stop date\n",
    "    \n",
    "    :param search_term: search query to target specific tweets\n",
    "    :param stop_date: the most recent date we can get tweets for, usually today\n",
    "    :return: list containing tweet data\n",
    "    \"\"\"\n",
    "    # Get the collection of tweets for search_term\n",
    "    tweets_collection = tweepy.Cursor(api.search_tweets,\n",
    "                  q=search_term,\n",
    "                  until=stop_date).items(35)\n",
    "    \n",
    "    \n",
    "    # Collate the tweets along with useful metadata\n",
    "    try:\n",
    "        return [[tweet.created_at, tweet.user.screen_name , tweet.id, tweet.text, tweet.entities['urls'][0]['url']] for tweet in tweets_collection]\n",
    "    except:\n",
    "        return None\n"
   ],
   "metadata": {
    "collapsed": false,
    "pycharm": {
     "name": "#%%\n"
    }
   }
  },
  {
   "cell_type": "code",
   "execution_count": null,
   "outputs": [],
   "source": [
    "def get_hashtag_tweets(search_hashtags):\n",
    "    \"\"\"\n",
    "    Get tweet data for hashtags of interest\n",
    "    \n",
    "    :param search_hashtags: list of hashtags to retrieve tweets from\n",
    "    :return: list of tweets based on search_hashtags\n",
    "    \"\"\"\n",
    "    aggregate_tweets = []\n",
    "    \n",
    "    # go through each hashtag\n",
    "    for hashtag in search_hashtags:\n",
    "        unique_hashtag_results = hashtag + \" -filter:retweets\" #filter out retweets\n",
    "        \n",
    "        search_results = get_tweets(unique_hashtag_results, stop_date)\n",
    "        if search_results:\n",
    "            aggregate_tweets.append(search_results)\n",
    "        else:\n",
    "            print(hashtag, \"does not give any tweets\")\n",
    "            \n",
    "    return [element for inner_list in aggregate_tweets for element in inner_list]\n",
    "    "
   ],
   "metadata": {
    "collapsed": false,
    "pycharm": {
     "name": "#%%\n"
    }
   }
  },
  {
   "cell_type": "code",
   "execution_count": null,
   "outputs": [],
   "source": [
    "tweets = get_hashtag_tweets(hashtags)\n",
    "tweets[:3]"
   ],
   "metadata": {
    "collapsed": false,
    "pycharm": {
     "name": "#%%\n"
    }
   }
  },
  {
   "cell_type": "markdown",
   "source": [
    "### Place tweets in dataframe"
   ],
   "metadata": {
    "collapsed": false,
    "pycharm": {
     "name": "#%% md\n"
    }
   }
  },
  {
   "cell_type": "code",
   "execution_count": null,
   "outputs": [],
   "source": [
    "#iterate through the sublist using List comprehension\n",
    "tweet_df = pd.DataFrame(data=tweets,\n",
    "                    columns=['creation_time', 'user_name', 'id','text', 'url'])"
   ],
   "metadata": {
    "collapsed": false,
    "pycharm": {
     "name": "#%%\n"
    }
   }
  },
  {
   "cell_type": "code",
   "execution_count": null,
   "outputs": [],
   "source": [
    "tweet_df.shape"
   ],
   "metadata": {
    "collapsed": false,
    "pycharm": {
     "name": "#%%\n"
    }
   }
  },
  {
   "cell_type": "markdown",
   "source": [
    "### Export tweets to csv"
   ],
   "metadata": {
    "collapsed": false,
    "pycharm": {
     "name": "#%% md\n"
    }
   }
  },
  {
   "cell_type": "code",
   "execution_count": null,
   "outputs": [],
   "source": [
    "tweet_df.to_csv(\"tweets.csv\")"
   ],
   "metadata": {
    "collapsed": false,
    "pycharm": {
     "name": "#%%\n"
    }
   }
  },
  {
   "cell_type": "markdown",
   "source": [
    "### References"
   ],
   "metadata": {
    "collapsed": false,
    "pycharm": {
     "name": "#%% md\n"
    }
   }
  },
  {
   "cell_type": "markdown",
   "source": [
    "- [Automate Getting Twitter Data in Python Using Tweepy and API Access](https://www.earthdatascience.org/courses/use-data-open-source-python/intro-to-apis/twitter-data-in-python/)\n",
    "\n",
    "- [Twitter API Docs: Search Tweets](https://developer.twitter.com/en/docs/twitter-api/v1/tweets/search/api-reference/get-search-tweets)"
   ],
   "metadata": {
    "collapsed": false,
    "pycharm": {
     "name": "#%% md\n"
    }
   }
  },
  {
   "cell_type": "markdown",
   "metadata": {},
   "source": [
    "- [Automate Getting Twitter Data in Python Using Tweepy and API Access](https://www.earthdatascience.org/courses/use-data-open-source-python/intro-to-apis/twitter-data-in-python/)\n",
    "\n",
    "- [Twitter API Docs: Search Tweets](https://developer.twitter.com/en/docs/twitter-api/v1/tweets/search/api-reference/get-search-tweets)"
   ]
  }
 ],
 "metadata": {
  "kernelspec": {
   "display_name": "Python 3 (ipykernel)",
   "language": "python",
   "name": "python3"
  },
  "language_info": {
   "codemirror_mode": {
    "name": "ipython",
    "version": 3
   },
   "file_extension": ".py",
   "mimetype": "text/x-python",
   "name": "python",
   "nbconvert_exporter": "python",
   "pygments_lexer": "ipython3",
   "version": "3.10.5"
  }
 },
 "nbformat": 4,
 "nbformat_minor": 1
}